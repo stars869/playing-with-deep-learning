{
 "cells": [
  {
   "cell_type": "code",
   "execution_count": 2,
   "metadata": {
    "_cell_guid": "a0bf0fa7-c527-4fd3-b504-02a88fc94798",
    "_uuid": "1382c63fe24710d3b2840e7dcf172cddbf533743"
   },
   "outputs": [],
   "source": [
    "import torch\n",
    "import torch.nn as nn\n",
    "import torch.optim as optim\n",
    "from torchvision import datasets, transforms\n",
    "from torch.utils.data import DataLoader\n"
   ]
  },
  {
   "cell_type": "code",
   "execution_count": 3,
   "metadata": {
    "_cell_guid": "59cdc9d5-da8f-4d7a-abc5-c62b0008afb0",
    "_uuid": "c6e0d7d3843719091564a580dbe08f67ee0d93ec"
   },
   "outputs": [
    {
     "name": "stdout",
     "output_type": "stream",
     "text": [
      "Files already downloaded and verified\n",
      "Files already downloaded and verified\n",
      "cuda\n"
     ]
    }
   ],
   "source": [
    "# Hyperparameters\n",
    "batch_size = 64\n",
    "learning_rate = 1e-3\n",
    "num_epochs = 20\n",
    "\n",
    "# Transform: Normalize and Flatten Images\n",
    "transform = transforms.Compose([\n",
    "    transforms.ToTensor(),\n",
    "    # transforms.Lambda(lambda x: x.view(-1))  # Flatten the image\n",
    "])\n",
    "\n",
    "# Load CIFAR10 Dataset\n",
    "train_dataset = datasets.CIFAR10(root='./data', train=True, transform=transform, download=True)\n",
    "train_loader = DataLoader(train_dataset, batch_size=batch_size, shuffle=True)\n",
    "\n",
    "test_dataset = datasets.CIFAR10(root='./data', train=False, transform=transform, download=True)\n",
    "test_loader = DataLoader(test_dataset, batch_size=batch_size, shuffle=True)\n",
    "\n",
    "device = torch.device(\"cuda\" if torch.cuda.is_available() else \"cpu\")\n",
    "print(device)"
   ]
  },
  {
   "cell_type": "markdown",
   "metadata": {
    "_cell_guid": "49344c72-d0ea-4092-96fe-ed5508ae6e0b",
    "_uuid": "20b4762eb8607ed428703c2156c5aefe8b49ff3f"
   },
   "source": [
    "<a id=\"3\"></a> <br>\n",
    "### Logistic Regression"
   ]
  },
  {
   "cell_type": "code",
   "execution_count": 11,
   "metadata": {
    "_cell_guid": "03a25584-c567-4b5e-bae1-7bc9e02184fe",
    "_uuid": "7c7a7265a23a8101d5ed0c8826dfec3726d6161d"
   },
   "outputs": [],
   "source": [
    "# Create Logistic Regression Model\n",
    "class LogisticRegressionModel(nn.Module):\n",
    "    def __init__(self):\n",
    "        super(LogisticRegressionModel, self).__init__()\n",
    "\n",
    "        self.linear = nn.Linear(32 * 32 * 3, 10)\n",
    "\n",
    "    def forward(self, x):\n",
    "        out = self.linear(x.view(-1, 32 * 32 * 3))\n",
    "        return out\n",
    "\n",
    "\n",
    "model = LogisticRegressionModel().to(device)\n",
    "\n",
    "error = nn.CrossEntropyLoss()\n",
    "learning_rate = 0.001\n",
    "optimizer = torch.optim.SGD(model.parameters(), lr=learning_rate)"
   ]
  },
  {
   "cell_type": "code",
   "execution_count": 12,
   "metadata": {
    "_cell_guid": "82de08d9-7f3c-4eb9-8a99-9d7a8677799c",
    "_uuid": "0cab9c3ec72f73db1b06578fa7a51611141e16da"
   },
   "outputs": [
    {
     "name": "stdout",
     "output_type": "stream",
     "text": [
      "Epoch [0/20], Loss: 0.0027, Acc: 29.5100%\n",
      "Epoch [1/20], Loss: 0.0026, Acc: 32.1100%\n",
      "Epoch [2/20], Loss: 0.0028, Acc: 33.3300%\n",
      "Epoch [3/20], Loss: 0.0024, Acc: 34.7900%\n",
      "Epoch [4/20], Loss: 0.0024, Acc: 35.3800%\n",
      "Epoch [5/20], Loss: 0.0022, Acc: 35.9000%\n",
      "Epoch [6/20], Loss: 0.0027, Acc: 36.0600%\n",
      "Epoch [7/20], Loss: 0.0025, Acc: 36.5900%\n",
      "Epoch [8/20], Loss: 0.0023, Acc: 36.2700%\n",
      "Epoch [9/20], Loss: 0.0021, Acc: 36.8800%\n",
      "Epoch [10/20], Loss: 0.0024, Acc: 36.4600%\n",
      "Epoch [11/20], Loss: 0.0019, Acc: 37.5400%\n",
      "Epoch [12/20], Loss: 0.0021, Acc: 37.5100%\n",
      "Epoch [13/20], Loss: 0.0031, Acc: 36.9700%\n",
      "Epoch [14/20], Loss: 0.0023, Acc: 37.8300%\n",
      "Epoch [15/20], Loss: 0.0022, Acc: 37.9300%\n",
      "Epoch [16/20], Loss: 0.0023, Acc: 37.8600%\n",
      "Epoch [17/20], Loss: 0.0018, Acc: 38.3800%\n",
      "Epoch [18/20], Loss: 0.0026, Acc: 38.5000%\n",
      "Epoch [19/20], Loss: 0.0028, Acc: 38.0500%\n"
     ]
    }
   ],
   "source": [
    "# Traning the Model\n",
    "for epoch in range(num_epochs):\n",
    "    model.train()\n",
    "    running_loss = 0.0\n",
    "    for (images, labels) in train_loader:\n",
    "        images = images.to(device)\n",
    "        labels = labels.to(device)\n",
    "        \n",
    "        outputs = model(images)\n",
    "        loss = error(outputs, labels)\n",
    "        \n",
    "        optimizer.zero_grad()\n",
    "        loss.backward()\n",
    "        optimizer.step()\n",
    "\n",
    "    running_loss += loss.item()\n",
    "        \n",
    "    # Calculate Accuracy         \n",
    "    correct = 0\n",
    "    total = 0\n",
    "    # Predict test dataset\n",
    "    for images, labels in test_loader: \n",
    "        images = images.to(device)\n",
    "        labels = labels.to(device)\n",
    "\n",
    "        outputs = model(images)\n",
    "        predicted = torch.max(outputs.data, 1)[1]\n",
    "        total += len(labels)\n",
    "        correct += (predicted == labels).sum()\n",
    "    \n",
    "    accuracy = 100 * correct / float(total)\n",
    "    avg_loss = running_loss / len(train_loader)\n",
    "    print(f\"Epoch [{epoch}/{num_epochs}], Loss: {avg_loss:.4f}, Acc: {accuracy:.4f}%\")"
   ]
  },
  {
   "cell_type": "code",
   "execution_count": 9,
   "metadata": {
    "_cell_guid": "924e9606-e155-4e39-89d3-39f941fd52f8",
    "_uuid": "db87c03e9d263f07eb75f82a914d3e966895a6c1"
   },
   "outputs": [],
   "source": [
    "# visualization\n",
    "# plt.plot(iteration_list,loss_list)\n",
    "# plt.xlabel(\"Number of iteration\")\n",
    "# plt.ylabel(\"Loss\")\n",
    "# plt.title(\"Logistic Regression: Loss vs Number of iteration\")\n",
    "# plt.show()"
   ]
  },
  {
   "cell_type": "markdown",
   "metadata": {
    "_cell_guid": "4d38db05-fad0-468c-9000-20caf5465eca",
    "_uuid": "ea9eba414f2f0f1e63ef564dc0ee708c753ff51f"
   },
   "source": [
    "<a id=\"4\"></a> <br>\n",
    "### Artificial Neural Network (ANN)"
   ]
  },
  {
   "cell_type": "code",
   "execution_count": 9,
   "metadata": {
    "_cell_guid": "3472f1c1-5888-4abe-822c-3a493a5f8be5",
    "_uuid": "cefd0bb2f23b80f30ca65cbb08859ad81ab12e08"
   },
   "outputs": [],
   "source": [
    "# Create ANN Model\n",
    "class ANNModel(nn.Module):\n",
    "    def __init__(self):\n",
    "        super(ANNModel, self).__init__()\n",
    "\n",
    "        self.fc1 = nn.Linear(32 * 32 * 3, 128) \n",
    "        self.relu1 = nn.ReLU()\n",
    "        self.fc2 = nn.Linear(128, 64)\n",
    "        self.relu2 = nn.ReLU()\n",
    "        self.fc3 = nn.Linear(64, 32)\n",
    "        self.relu3 = nn.ReLU()\n",
    "        self.fc4 = nn.Linear(32, 10)  \n",
    "        \n",
    "    def forward(self, x):\n",
    "        out = self.fc1(x)\n",
    "        out = self.relu1(out)\n",
    "        out = self.fc2(out)\n",
    "        out = self.relu2(out)\n",
    "        out = self.fc3(out)\n",
    "        out = self.relu3(out)\n",
    "        out = self.fc4(out)\n",
    "        return out\n",
    "\n",
    "\n",
    "model = ANNModel().to(device)\n",
    "error = nn.CrossEntropyLoss()\n",
    "learning_rate = 0.02\n",
    "optimizer = torch.optim.SGD(model.parameters(), lr=learning_rate)"
   ]
  },
  {
   "cell_type": "code",
   "execution_count": 11,
   "metadata": {
    "_cell_guid": "7550e98b-5011-4d09-88ee-97b0ecbc6f19",
    "_uuid": "c91694f3af94e4e1b76ab01489e186718c70ccd3"
   },
   "outputs": [
    {
     "name": "stdout",
     "output_type": "stream",
     "text": [
      "Epoch [0/50], Loss: 0.0029, Acc: 23.0600%\n",
      "Epoch [1/50], Loss: 0.0026, Acc: 27.9200%\n",
      "Epoch [2/50], Loss: 0.0026, Acc: 34.3600%\n",
      "Epoch [3/50], Loss: 0.0023, Acc: 36.7000%\n",
      "Epoch [4/50], Loss: 0.0021, Acc: 37.9600%\n",
      "Epoch [5/50], Loss: 0.0020, Acc: 38.9300%\n",
      "Epoch [6/50], Loss: 0.0023, Acc: 40.8500%\n",
      "Epoch [7/50], Loss: 0.0021, Acc: 43.3700%\n",
      "Epoch [8/50], Loss: 0.0027, Acc: 42.9400%\n",
      "Epoch [9/50], Loss: 0.0014, Acc: 44.1700%\n",
      "Epoch [10/50], Loss: 0.0021, Acc: 38.7400%\n",
      "Epoch [11/50], Loss: 0.0021, Acc: 42.2500%\n",
      "Epoch [12/50], Loss: 0.0017, Acc: 45.3600%\n",
      "Epoch [13/50], Loss: 0.0015, Acc: 48.1400%\n",
      "Epoch [14/50], Loss: 0.0018, Acc: 44.9800%\n",
      "Epoch [15/50], Loss: 0.0012, Acc: 47.8300%\n",
      "Epoch [16/50], Loss: 0.0022, Acc: 45.0700%\n",
      "Epoch [17/50], Loss: 0.0016, Acc: 47.7100%\n",
      "Epoch [18/50], Loss: 0.0018, Acc: 43.0100%\n",
      "Epoch [19/50], Loss: 0.0018, Acc: 43.1000%\n",
      "Epoch [20/50], Loss: 0.0016, Acc: 46.5200%\n",
      "Epoch [21/50], Loss: 0.0015, Acc: 47.7000%\n",
      "Epoch [22/50], Loss: 0.0016, Acc: 47.7200%\n",
      "Epoch [23/50], Loss: 0.0012, Acc: 47.3000%\n",
      "Epoch [24/50], Loss: 0.0023, Acc: 45.1300%\n",
      "Epoch [25/50], Loss: 0.0013, Acc: 48.6400%\n",
      "Epoch [26/50], Loss: 0.0015, Acc: 44.5300%\n",
      "Epoch [27/50], Loss: 0.0015, Acc: 42.0600%\n",
      "Epoch [28/50], Loss: 0.0020, Acc: 42.5200%\n",
      "Epoch [29/50], Loss: 0.0020, Acc: 50.6200%\n",
      "Epoch [30/50], Loss: 0.0016, Acc: 50.1900%\n",
      "Epoch [31/50], Loss: 0.0021, Acc: 33.9800%\n",
      "Epoch [32/50], Loss: 0.0014, Acc: 47.5600%\n",
      "Epoch [33/50], Loss: 0.0016, Acc: 48.1600%\n",
      "Epoch [34/50], Loss: 0.0016, Acc: 46.3700%\n",
      "Epoch [35/50], Loss: 0.0012, Acc: 50.5900%\n",
      "Epoch [36/50], Loss: 0.0019, Acc: 37.2300%\n",
      "Epoch [37/50], Loss: 0.0013, Acc: 48.6300%\n",
      "Epoch [38/50], Loss: 0.0017, Acc: 52.1100%\n",
      "Epoch [39/50], Loss: 0.0013, Acc: 51.7100%\n",
      "Epoch [40/50], Loss: 0.0012, Acc: 49.5900%\n",
      "Epoch [41/50], Loss: 0.0008, Acc: 51.0900%\n",
      "Epoch [42/50], Loss: 0.0013, Acc: 48.9900%\n",
      "Epoch [43/50], Loss: 0.0015, Acc: 47.2500%\n",
      "Epoch [44/50], Loss: 0.0012, Acc: 47.9200%\n",
      "Epoch [45/50], Loss: 0.0009, Acc: 47.2400%\n",
      "Epoch [46/50], Loss: 0.0013, Acc: 48.6700%\n",
      "Epoch [47/50], Loss: 0.0016, Acc: 46.1900%\n",
      "Epoch [48/50], Loss: 0.0011, Acc: 49.7200%\n",
      "Epoch [49/50], Loss: 0.0011, Acc: 49.9500%\n"
     ]
    }
   ],
   "source": [
    "num_epochs = 50\n",
    "\n",
    "# Traning the Model\n",
    "for epoch in range(num_epochs):\n",
    "    model.train()\n",
    "    running_loss = 0.0\n",
    "    for (images, labels) in train_loader:\n",
    "        images = images.view(-1, 3 * 32 * 32).to(device)\n",
    "        labels = labels.to(device)\n",
    "        \n",
    "        outputs = model(images)\n",
    "        loss = error(outputs, labels)\n",
    "        \n",
    "        optimizer.zero_grad()\n",
    "        loss.backward()\n",
    "        optimizer.step()\n",
    "\n",
    "    running_loss += loss.item()\n",
    "        \n",
    "    # Calculate Accuracy         \n",
    "    correct = 0\n",
    "    total = 0\n",
    "    # Predict test dataset\n",
    "    for images, labels in test_loader: \n",
    "        images = images.view(-1, 3 * 32 * 32).to(device)\n",
    "        labels = labels.to(device)\n",
    "\n",
    "        outputs = model(images)\n",
    "        predicted = torch.max(outputs.data, 1)[1]\n",
    "        total += len(labels)\n",
    "        correct += (predicted == labels).sum()\n",
    "    \n",
    "    accuracy = 100 * correct / float(total)\n",
    "    avg_loss = running_loss / len(train_loader)\n",
    "    print(f\"Epoch [{epoch}/{num_epochs}], Loss: {avg_loss:.4f}, Acc: {accuracy:.4f}%\")"
   ]
  },
  {
   "cell_type": "code",
   "execution_count": 18,
   "metadata": {
    "_cell_guid": "5579a7d6-7766-4d0f-b9d0-584cb4f28321",
    "_uuid": "c5e2e6da7f1ee801e38358dc28d4c99e32d2b761"
   },
   "outputs": [],
   "source": [
    "# # visualization loss \n",
    "# plt.plot(iteration_list,loss_list)\n",
    "# plt.xlabel(\"Number of iteration\")\n",
    "# plt.ylabel(\"Loss\")\n",
    "# plt.title(\"ANN: Loss vs Number of iteration\")\n",
    "# plt.show()\n",
    "\n",
    "# # visualization accuracy \n",
    "# plt.plot(iteration_list,accuracy_list,color = \"red\")\n",
    "# plt.xlabel(\"Number of iteration\")\n",
    "# plt.ylabel(\"Accuracy\")\n",
    "# plt.title(\"ANN: Accuracy vs Number of iteration\")\n",
    "# plt.show()"
   ]
  },
  {
   "cell_type": "markdown",
   "metadata": {
    "_cell_guid": "50bbb2e7-15d8-47f5-8f31-25e0d0cb9e29",
    "_uuid": "cd8f261d231acaccd0f0bc8466fc28c1b0c2f567"
   },
   "source": [
    "<a id=\"5\"></a> <br>\n",
    "### Convolutional Neural Network (CNN)"
   ]
  },
  {
   "cell_type": "code",
   "execution_count": 16,
   "metadata": {
    "_cell_guid": "9ca5af9e-6821-4d60-8084-edb523a39c6b",
    "_uuid": "4915535771ffdd33ef480200393216f215b4fc48"
   },
   "outputs": [],
   "source": [
    "# Create CNN Model\n",
    "class CNNModel(nn.Module):\n",
    "    def __init__(self):\n",
    "        super(CNNModel, self).__init__()\n",
    "        \n",
    "        self.cnn1 = nn.Conv2d(in_channels=3, out_channels=16, kernel_size=5, stride=1, padding=0)\n",
    "        self.relu1 = nn.ReLU()\n",
    "        self.maxpool1 = nn.MaxPool2d(kernel_size=2)\n",
    "        self.cnn2 = nn.Conv2d(in_channels=16, out_channels=32, kernel_size=5, stride=1, padding=0)\n",
    "        self.relu2 = nn.ReLU()\n",
    "        self.maxpool2 = nn.MaxPool2d(kernel_size=2)\n",
    "        self.fc1 = nn.Linear(32 * 5 * 5, 10) \n",
    "    \n",
    "    def forward(self, x):\n",
    "        out = self.cnn1(x)\n",
    "        out = self.relu1(out)\n",
    "        out = self.maxpool1(out)\n",
    "        out = self.cnn2(out)\n",
    "        out = self.relu2(out)\n",
    "        out = self.maxpool2(out)\n",
    "        out = out.view(out.size(0), -1)\n",
    "        out = self.fc1(out)\n",
    "        return out\n",
    "\n",
    "\n",
    "model = CNNModel().to(device)\n",
    "error = nn.CrossEntropyLoss()\n",
    "optimizer = torch.optim.Adam(model.parameters(), lr=0.001)\n"
   ]
  },
  {
   "cell_type": "code",
   "execution_count": 17,
   "metadata": {
    "_cell_guid": "99a8903c-da15-496c-96b7-f5402c8fc5f0",
    "_uuid": "f44e02d25698ac1a014795d972a384a3f3003d35"
   },
   "outputs": [
    {
     "name": "stdout",
     "output_type": "stream",
     "text": [
      "Epoch [0/50], Loss: 0.0019, Acc: 49.4100%\n",
      "Epoch [1/50], Loss: 0.0016, Acc: 56.0300%\n",
      "Epoch [2/50], Loss: 0.0018, Acc: 57.9300%\n",
      "Epoch [3/50], Loss: 0.0014, Acc: 60.7200%\n",
      "Epoch [4/50], Loss: 0.0018, Acc: 60.5800%\n",
      "Epoch [5/50], Loss: 0.0015, Acc: 63.3000%\n",
      "Epoch [6/50], Loss: 0.0016, Acc: 63.1800%\n",
      "Epoch [7/50], Loss: 0.0013, Acc: 64.0100%\n",
      "Epoch [8/50], Loss: 0.0013, Acc: 65.8300%\n",
      "Epoch [9/50], Loss: 0.0018, Acc: 64.2600%\n",
      "Epoch [10/50], Loss: 0.0011, Acc: 65.7700%\n",
      "Epoch [11/50], Loss: 0.0013, Acc: 65.0800%\n",
      "Epoch [12/50], Loss: 0.0008, Acc: 66.4300%\n",
      "Epoch [13/50], Loss: 0.0016, Acc: 66.2300%\n",
      "Epoch [14/50], Loss: 0.0014, Acc: 67.7000%\n",
      "Epoch [15/50], Loss: 0.0005, Acc: 66.9300%\n",
      "Epoch [16/50], Loss: 0.0011, Acc: 67.5000%\n",
      "Epoch [17/50], Loss: 0.0008, Acc: 65.6800%\n",
      "Epoch [18/50], Loss: 0.0009, Acc: 68.0400%\n",
      "Epoch [19/50], Loss: 0.0005, Acc: 67.4300%\n",
      "Epoch [20/50], Loss: 0.0007, Acc: 68.8600%\n",
      "Epoch [21/50], Loss: 0.0013, Acc: 68.5700%\n",
      "Epoch [22/50], Loss: 0.0013, Acc: 66.5400%\n",
      "Epoch [23/50], Loss: 0.0007, Acc: 67.5500%\n",
      "Epoch [24/50], Loss: 0.0008, Acc: 67.9800%\n",
      "Epoch [25/50], Loss: 0.0008, Acc: 68.6900%\n",
      "Epoch [26/50], Loss: 0.0008, Acc: 68.5900%\n",
      "Epoch [27/50], Loss: 0.0015, Acc: 68.2900%\n",
      "Epoch [28/50], Loss: 0.0005, Acc: 69.1100%\n",
      "Epoch [29/50], Loss: 0.0008, Acc: 68.3000%\n",
      "Epoch [30/50], Loss: 0.0014, Acc: 68.8900%\n",
      "Epoch [31/50], Loss: 0.0006, Acc: 69.0200%\n",
      "Epoch [32/50], Loss: 0.0007, Acc: 69.3200%\n",
      "Epoch [33/50], Loss: 0.0008, Acc: 68.8500%\n",
      "Epoch [34/50], Loss: 0.0012, Acc: 68.4700%\n",
      "Epoch [35/50], Loss: 0.0012, Acc: 68.7700%\n",
      "Epoch [36/50], Loss: 0.0009, Acc: 67.1500%\n",
      "Epoch [37/50], Loss: 0.0014, Acc: 67.4200%\n",
      "Epoch [38/50], Loss: 0.0010, Acc: 68.4600%\n",
      "Epoch [39/50], Loss: 0.0005, Acc: 69.0700%\n",
      "Epoch [40/50], Loss: 0.0013, Acc: 68.2900%\n",
      "Epoch [41/50], Loss: 0.0010, Acc: 68.8100%\n",
      "Epoch [42/50], Loss: 0.0008, Acc: 67.0800%\n",
      "Epoch [43/50], Loss: 0.0005, Acc: 67.5800%\n",
      "Epoch [44/50], Loss: 0.0011, Acc: 68.7600%\n",
      "Epoch [45/50], Loss: 0.0006, Acc: 67.6300%\n",
      "Epoch [46/50], Loss: 0.0014, Acc: 67.5300%\n",
      "Epoch [47/50], Loss: 0.0006, Acc: 68.6200%\n",
      "Epoch [48/50], Loss: 0.0005, Acc: 68.3300%\n",
      "Epoch [49/50], Loss: 0.0012, Acc: 68.4400%\n"
     ]
    }
   ],
   "source": [
    "num_epochs = 50\n",
    "\n",
    "# Traning the Model\n",
    "for epoch in range(num_epochs):\n",
    "    model.train()\n",
    "    running_loss = 0.0\n",
    "    for (images, labels) in train_loader:\n",
    "        images = images.to(device).view(-1, 3, 32, 32)\n",
    "        labels = labels.to(device)\n",
    "        \n",
    "        outputs = model(images)\n",
    "        loss = error(outputs, labels)\n",
    "        \n",
    "        optimizer.zero_grad()\n",
    "        loss.backward()\n",
    "        optimizer.step()\n",
    "\n",
    "    running_loss += loss.item()\n",
    "        \n",
    "    # Calculate Accuracy         \n",
    "    correct = 0\n",
    "    total = 0\n",
    "    # Predict test dataset\n",
    "    for images, labels in test_loader: \n",
    "        images = images.to(device).view(-1, 3, 32, 32)\n",
    "        labels = labels.to(device)\n",
    "\n",
    "        outputs = model(images)\n",
    "        predicted = torch.max(outputs.data, 1)[1]\n",
    "        total += len(labels)\n",
    "        correct += (predicted == labels).sum()\n",
    "    \n",
    "    accuracy = 100 * correct / float(total)\n",
    "    avg_loss = running_loss / len(train_loader)\n",
    "    print(f\"Epoch [{epoch}/{num_epochs}], Loss: {avg_loss:.4f}, Acc: {accuracy:.4f}%\")"
   ]
  },
  {
   "cell_type": "markdown",
   "metadata": {},
   "source": []
  },
  {
   "cell_type": "code",
   "execution_count": 29,
   "metadata": {
    "_cell_guid": "ac9e4aee-b8af-4641-8794-bad03b650179",
    "_uuid": "44c1ed412d778f3e6b08f11bddc5321f63e408dd"
   },
   "outputs": [],
   "source": [
    "# # visualization loss \n",
    "# plt.plot(iteration_list,loss_list)\n",
    "# plt.xlabel(\"Number of iteration\")\n",
    "# plt.ylabel(\"Loss\")\n",
    "# plt.title(\"CNN: Loss vs Number of iteration\")\n",
    "# plt.show()\n",
    "\n",
    "# # visualization accuracy \n",
    "# plt.plot(iteration_list,accuracy_list,color = \"red\")\n",
    "# plt.xlabel(\"Number of iteration\")\n",
    "# plt.ylabel(\"Accuracy\")\n",
    "# plt.title(\"CNN: Accuracy vs Number of iteration\")\n",
    "# plt.show()"
   ]
  },
  {
   "cell_type": "code",
   "execution_count": null,
   "metadata": {},
   "outputs": [],
   "source": []
  }
 ],
 "metadata": {
  "kaggle": {
   "accelerator": "gpu",
   "dataSources": [
    {
     "databundleVersionId": 861823,
     "sourceId": 3004,
     "sourceType": "competition"
    }
   ],
   "dockerImageVersionId": 18199,
   "isGpuEnabled": true,
   "isInternetEnabled": false,
   "language": "python",
   "sourceType": "notebook"
  },
  "kernelspec": {
   "display_name": "env_playing_with_dp",
   "language": "python",
   "name": "python3"
  },
  "language_info": {
   "codemirror_mode": {
    "name": "ipython",
    "version": 3
   },
   "file_extension": ".py",
   "mimetype": "text/x-python",
   "name": "python",
   "nbconvert_exporter": "python",
   "pygments_lexer": "ipython3",
   "version": "3.12.8"
  }
 },
 "nbformat": 4,
 "nbformat_minor": 4
}
