{
 "cells": [
  {
   "cell_type": "code",
   "execution_count": 1,
   "metadata": {
    "_cell_guid": "a0bf0fa7-c527-4fd3-b504-02a88fc94798",
    "_uuid": "1382c63fe24710d3b2840e7dcf172cddbf533743"
   },
   "outputs": [],
   "source": [
    "import torch\n",
    "import torch.nn as nn\n",
    "import torch.optim as optim\n",
    "from torchvision import datasets, transforms\n",
    "from torch.utils.data import DataLoader\n"
   ]
  },
  {
   "cell_type": "code",
   "execution_count": 2,
   "metadata": {
    "_cell_guid": "59cdc9d5-da8f-4d7a-abc5-c62b0008afb0",
    "_uuid": "c6e0d7d3843719091564a580dbe08f67ee0d93ec"
   },
   "outputs": [
    {
     "name": "stdout",
     "output_type": "stream",
     "text": [
      "Files already downloaded and verified\n",
      "Files already downloaded and verified\n",
      "cuda\n"
     ]
    }
   ],
   "source": [
    "# Hyperparameters\n",
    "batch_size = 64\n",
    "learning_rate = 1e-3\n",
    "num_epochs = 20\n",
    "\n",
    "# Transform: Normalize and Flatten Images\n",
    "transform = transforms.Compose([\n",
    "    transforms.ToTensor(),\n",
    "    # transforms.Lambda(lambda x: x.view(-1))  # Flatten the image\n",
    "])\n",
    "\n",
    "# Load CIFAR10 Dataset\n",
    "train_dataset = datasets.CIFAR10(root='./data', train=True, transform=transform, download=True)\n",
    "train_loader = DataLoader(train_dataset, batch_size=batch_size, shuffle=True)\n",
    "\n",
    "test_dataset = datasets.CIFAR10(root='./data', train=False, transform=transform, download=True)\n",
    "test_loader = DataLoader(test_dataset, batch_size=batch_size, shuffle=True)\n",
    "\n",
    "device = torch.device(\"cuda\" if torch.cuda.is_available() else \"cpu\")\n",
    "print(device)"
   ]
  },
  {
   "cell_type": "markdown",
   "metadata": {
    "_cell_guid": "49344c72-d0ea-4092-96fe-ed5508ae6e0b",
    "_uuid": "20b4762eb8607ed428703c2156c5aefe8b49ff3f"
   },
   "source": [
    "<a id=\"3\"></a> <br>\n",
    "### Logistic Regression"
   ]
  },
  {
   "cell_type": "code",
   "execution_count": 5,
   "metadata": {
    "_cell_guid": "03a25584-c567-4b5e-bae1-7bc9e02184fe",
    "_uuid": "7c7a7265a23a8101d5ed0c8826dfec3726d6161d"
   },
   "outputs": [],
   "source": [
    "# Create Logistic Regression Model\n",
    "class LogisticRegressionModel(nn.Module):\n",
    "    def __init__(self):\n",
    "        super(LogisticRegressionModel, self).__init__()\n",
    "\n",
    "        self.linear = nn.Linear(32 * 32 * 3, 10)\n",
    "\n",
    "    def forward(self, x):\n",
    "        out = self.linear(x.view(-1, 32 * 32 * 3))\n",
    "        return out\n",
    "\n",
    "\n",
    "model = LogisticRegressionModel().to(device)\n",
    "\n",
    "error = nn.CrossEntropyLoss()\n",
    "learning_rate = 0.001\n",
    "optimizer = torch.optim.SGD(model.parameters(), lr=learning_rate)"
   ]
  },
  {
   "cell_type": "code",
   "execution_count": 12,
   "metadata": {
    "_cell_guid": "82de08d9-7f3c-4eb9-8a99-9d7a8677799c",
    "_uuid": "0cab9c3ec72f73db1b06578fa7a51611141e16da"
   },
   "outputs": [
    {
     "name": "stdout",
     "output_type": "stream",
     "text": [
      "Epoch [0/20], Loss: 0.0027, Acc: 29.5100%\n",
      "Epoch [1/20], Loss: 0.0026, Acc: 32.1100%\n",
      "Epoch [2/20], Loss: 0.0028, Acc: 33.3300%\n",
      "Epoch [3/20], Loss: 0.0024, Acc: 34.7900%\n",
      "Epoch [4/20], Loss: 0.0024, Acc: 35.3800%\n",
      "Epoch [5/20], Loss: 0.0022, Acc: 35.9000%\n",
      "Epoch [6/20], Loss: 0.0027, Acc: 36.0600%\n",
      "Epoch [7/20], Loss: 0.0025, Acc: 36.5900%\n",
      "Epoch [8/20], Loss: 0.0023, Acc: 36.2700%\n",
      "Epoch [9/20], Loss: 0.0021, Acc: 36.8800%\n",
      "Epoch [10/20], Loss: 0.0024, Acc: 36.4600%\n",
      "Epoch [11/20], Loss: 0.0019, Acc: 37.5400%\n",
      "Epoch [12/20], Loss: 0.0021, Acc: 37.5100%\n",
      "Epoch [13/20], Loss: 0.0031, Acc: 36.9700%\n",
      "Epoch [14/20], Loss: 0.0023, Acc: 37.8300%\n",
      "Epoch [15/20], Loss: 0.0022, Acc: 37.9300%\n",
      "Epoch [16/20], Loss: 0.0023, Acc: 37.8600%\n",
      "Epoch [17/20], Loss: 0.0018, Acc: 38.3800%\n",
      "Epoch [18/20], Loss: 0.0026, Acc: 38.5000%\n",
      "Epoch [19/20], Loss: 0.0028, Acc: 38.0500%\n"
     ]
    }
   ],
   "source": [
    "# Traning the Model\n",
    "for epoch in range(num_epochs):\n",
    "    model.train()\n",
    "    running_loss = 0.0\n",
    "    for (images, labels) in train_loader:\n",
    "        images = images.to(device)\n",
    "        labels = labels.to(device)\n",
    "        \n",
    "        outputs = model(images)\n",
    "        loss = error(outputs, labels)\n",
    "        \n",
    "        optimizer.zero_grad()\n",
    "        loss.backward()\n",
    "        optimizer.step()\n",
    "\n",
    "    running_loss += loss.item()\n",
    "        \n",
    "    # Calculate Accuracy         \n",
    "    correct = 0\n",
    "    total = 0\n",
    "    # Predict test dataset\n",
    "    for images, labels in test_loader: \n",
    "        images = images.to(device)\n",
    "        labels = labels.to(device)\n",
    "\n",
    "        outputs = model(images)\n",
    "        predicted = torch.max(outputs.data, 1)[1]\n",
    "        total += len(labels)\n",
    "        correct += (predicted == labels).sum()\n",
    "    \n",
    "    accuracy = 100 * correct / float(total)\n",
    "    avg_loss = running_loss / len(train_loader)\n",
    "    print(f\"Epoch [{epoch}/{num_epochs}], Loss: {avg_loss:.4f}, Acc: {accuracy:.4f}%\")"
   ]
  },
  {
   "cell_type": "code",
   "execution_count": 9,
   "metadata": {
    "_cell_guid": "924e9606-e155-4e39-89d3-39f941fd52f8",
    "_uuid": "db87c03e9d263f07eb75f82a914d3e966895a6c1"
   },
   "outputs": [],
   "source": [
    "# visualization\n",
    "# plt.plot(iteration_list,loss_list)\n",
    "# plt.xlabel(\"Number of iteration\")\n",
    "# plt.ylabel(\"Loss\")\n",
    "# plt.title(\"Logistic Regression: Loss vs Number of iteration\")\n",
    "# plt.show()"
   ]
  },
  {
   "cell_type": "markdown",
   "metadata": {
    "_cell_guid": "4d38db05-fad0-468c-9000-20caf5465eca",
    "_uuid": "ea9eba414f2f0f1e63ef564dc0ee708c753ff51f"
   },
   "source": [
    "<a id=\"4\"></a> <br>\n",
    "### Artificial Neural Network (ANN)"
   ]
  },
  {
   "cell_type": "code",
   "execution_count": 20,
   "metadata": {
    "_cell_guid": "3472f1c1-5888-4abe-822c-3a493a5f8be5",
    "_uuid": "cefd0bb2f23b80f30ca65cbb08859ad81ab12e08"
   },
   "outputs": [],
   "source": [
    "# Create ANN Model\n",
    "class ANNModel(nn.Module):\n",
    "    def __init__(self):\n",
    "        super(ANNModel, self).__init__()\n",
    "\n",
    "        self.fc1 = nn.Linear(32 * 32 * 3, 128) \n",
    "        self.relu1 = nn.ReLU()\n",
    "        self.fc2 = nn.Linear(128, 64)\n",
    "        self.relu2 = nn.ReLU()\n",
    "        self.fc3 = nn.Linear(64, 32)\n",
    "        self.relu3 = nn.ReLU()\n",
    "        self.fc4 = nn.Linear(32, 10)  \n",
    "        \n",
    "    def forward(self, x):\n",
    "        out = self.fc1(x)\n",
    "        out = self.relu1(out)\n",
    "        out = self.fc2(out)\n",
    "        out = self.relu2(out)\n",
    "        out = self.fc3(out)\n",
    "        out = self.relu3(out)\n",
    "        out = self.fc4(out)\n",
    "        return out\n",
    "\n",
    "\n",
    "model = ANNModel().to(device)\n",
    "error = nn.CrossEntropyLoss()\n",
    "optimizer = torch.optim.AdamW(model.parameters(), lr=3e-4, weight_decay=1e-2)"
   ]
  },
  {
   "cell_type": "code",
   "execution_count": 21,
   "metadata": {},
   "outputs": [
    {
     "name": "stdout",
     "output_type": "stream",
     "text": [
      "Total Parameters: 404010\n"
     ]
    }
   ],
   "source": [
    "def count_parameters(model):\n",
    "    return sum(p.numel() for p in model.parameters())\n",
    "\n",
    "# Example\n",
    "total_params = count_parameters(model)\n",
    "print(f\"Total Parameters: {total_params}\")"
   ]
  },
  {
   "cell_type": "code",
   "execution_count": 22,
   "metadata": {
    "_cell_guid": "7550e98b-5011-4d09-88ee-97b0ecbc6f19",
    "_uuid": "c91694f3af94e4e1b76ab01489e186718c70ccd3"
   },
   "outputs": [
    {
     "name": "stdout",
     "output_type": "stream",
     "text": [
      "Epoch [0/100], Loss: 0.0023, Acc: 34.7500%\n",
      "Epoch [1/100], Loss: 0.0022, Acc: 38.5400%\n",
      "Epoch [2/100], Loss: 0.0018, Acc: 40.0700%\n",
      "Epoch [3/100], Loss: 0.0021, Acc: 41.9500%\n",
      "Epoch [4/100], Loss: 0.0022, Acc: 43.2900%\n",
      "Epoch [5/100], Loss: 0.0016, Acc: 45.0900%\n",
      "Epoch [6/100], Loss: 0.0019, Acc: 46.3300%\n",
      "Epoch [7/100], Loss: 0.0015, Acc: 45.0600%\n",
      "Epoch [8/100], Loss: 0.0019, Acc: 46.2800%\n",
      "Epoch [9/100], Loss: 0.0015, Acc: 47.4700%\n",
      "Epoch [10/100], Loss: 0.0018, Acc: 47.0300%\n",
      "Epoch [11/100], Loss: 0.0015, Acc: 47.8100%\n",
      "Epoch [12/100], Loss: 0.0017, Acc: 47.3800%\n",
      "Epoch [13/100], Loss: 0.0019, Acc: 47.5900%\n",
      "Epoch [14/100], Loss: 0.0017, Acc: 49.0800%\n",
      "Epoch [15/100], Loss: 0.0012, Acc: 49.4200%\n",
      "Epoch [16/100], Loss: 0.0016, Acc: 48.8600%\n",
      "Epoch [17/100], Loss: 0.0020, Acc: 48.5900%\n",
      "Epoch [18/100], Loss: 0.0015, Acc: 49.3100%\n",
      "Epoch [19/100], Loss: 0.0019, Acc: 48.5800%\n",
      "Epoch [20/100], Loss: 0.0012, Acc: 50.0300%\n",
      "Epoch [21/100], Loss: 0.0016, Acc: 51.1000%\n",
      "Epoch [22/100], Loss: 0.0020, Acc: 50.5200%\n",
      "Epoch [23/100], Loss: 0.0012, Acc: 51.1200%\n",
      "Epoch [24/100], Loss: 0.0012, Acc: 50.1400%\n",
      "Epoch [25/100], Loss: 0.0011, Acc: 50.9900%\n",
      "Epoch [26/100], Loss: 0.0015, Acc: 51.2600%\n",
      "Epoch [27/100], Loss: 0.0014, Acc: 51.5700%\n",
      "Epoch [28/100], Loss: 0.0008, Acc: 50.8100%\n",
      "Epoch [29/100], Loss: 0.0016, Acc: 51.2600%\n",
      "Epoch [30/100], Loss: 0.0017, Acc: 51.1700%\n",
      "Epoch [31/100], Loss: 0.0021, Acc: 51.7900%\n",
      "Epoch [32/100], Loss: 0.0017, Acc: 50.6100%\n",
      "Epoch [33/100], Loss: 0.0014, Acc: 50.1500%\n",
      "Epoch [34/100], Loss: 0.0009, Acc: 51.4400%\n",
      "Epoch [35/100], Loss: 0.0016, Acc: 51.7100%\n",
      "Epoch [36/100], Loss: 0.0014, Acc: 50.5800%\n",
      "Epoch [37/100], Loss: 0.0025, Acc: 51.1000%\n",
      "Epoch [38/100], Loss: 0.0011, Acc: 51.5900%\n",
      "Epoch [39/100], Loss: 0.0021, Acc: 51.9000%\n",
      "Epoch [40/100], Loss: 0.0010, Acc: 52.0100%\n",
      "Epoch [41/100], Loss: 0.0015, Acc: 52.0500%\n",
      "Epoch [42/100], Loss: 0.0015, Acc: 52.0500%\n",
      "Epoch [43/100], Loss: 0.0017, Acc: 50.6600%\n",
      "Epoch [44/100], Loss: 0.0014, Acc: 51.9600%\n",
      "Epoch [45/100], Loss: 0.0013, Acc: 50.8300%\n",
      "Epoch [46/100], Loss: 0.0015, Acc: 51.3700%\n",
      "Epoch [47/100], Loss: 0.0009, Acc: 49.9700%\n",
      "Epoch [48/100], Loss: 0.0015, Acc: 51.3100%\n",
      "Epoch [49/100], Loss: 0.0009, Acc: 52.2300%\n",
      "Epoch [50/100], Loss: 0.0012, Acc: 51.7900%\n",
      "Epoch [51/100], Loss: 0.0011, Acc: 50.9400%\n",
      "Epoch [52/100], Loss: 0.0016, Acc: 52.1100%\n",
      "Epoch [53/100], Loss: 0.0017, Acc: 52.3400%\n",
      "Epoch [54/100], Loss: 0.0017, Acc: 51.1900%\n",
      "Epoch [55/100], Loss: 0.0016, Acc: 52.3400%\n",
      "Epoch [56/100], Loss: 0.0012, Acc: 52.4800%\n",
      "Epoch [57/100], Loss: 0.0021, Acc: 51.9500%\n",
      "Epoch [58/100], Loss: 0.0013, Acc: 52.1800%\n",
      "Epoch [59/100], Loss: 0.0017, Acc: 51.9900%\n",
      "Epoch [60/100], Loss: 0.0016, Acc: 52.1900%\n",
      "Epoch [61/100], Loss: 0.0021, Acc: 51.4600%\n",
      "Epoch [62/100], Loss: 0.0014, Acc: 52.0800%\n",
      "Epoch [63/100], Loss: 0.0020, Acc: 51.8300%\n",
      "Epoch [64/100], Loss: 0.0011, Acc: 51.8800%\n",
      "Epoch [65/100], Loss: 0.0016, Acc: 51.9600%\n",
      "Epoch [66/100], Loss: 0.0011, Acc: 52.3600%\n",
      "Epoch [67/100], Loss: 0.0018, Acc: 51.4700%\n",
      "Epoch [68/100], Loss: 0.0012, Acc: 52.5600%\n",
      "Epoch [69/100], Loss: 0.0010, Acc: 51.5000%\n",
      "Epoch [70/100], Loss: 0.0012, Acc: 49.2700%\n",
      "Epoch [71/100], Loss: 0.0018, Acc: 51.7300%\n",
      "Epoch [72/100], Loss: 0.0015, Acc: 51.3000%\n",
      "Epoch [73/100], Loss: 0.0017, Acc: 51.4500%\n",
      "Epoch [74/100], Loss: 0.0013, Acc: 51.7700%\n",
      "Epoch [75/100], Loss: 0.0014, Acc: 51.8200%\n",
      "Epoch [76/100], Loss: 0.0010, Acc: 51.7500%\n",
      "Epoch [77/100], Loss: 0.0017, Acc: 51.2400%\n",
      "Epoch [78/100], Loss: 0.0009, Acc: 50.8200%\n",
      "Epoch [79/100], Loss: 0.0015, Acc: 52.2400%\n",
      "Epoch [80/100], Loss: 0.0016, Acc: 51.6700%\n",
      "Epoch [81/100], Loss: 0.0011, Acc: 51.3400%\n",
      "Epoch [82/100], Loss: 0.0009, Acc: 51.0400%\n",
      "Epoch [83/100], Loss: 0.0016, Acc: 51.8300%\n",
      "Epoch [84/100], Loss: 0.0010, Acc: 51.2100%\n",
      "Epoch [85/100], Loss: 0.0017, Acc: 51.7500%\n",
      "Epoch [86/100], Loss: 0.0012, Acc: 51.0200%\n",
      "Epoch [87/100], Loss: 0.0010, Acc: 51.7900%\n",
      "Epoch [88/100], Loss: 0.0009, Acc: 51.5200%\n",
      "Epoch [89/100], Loss: 0.0016, Acc: 50.3700%\n",
      "Epoch [90/100], Loss: 0.0011, Acc: 50.2200%\n",
      "Epoch [91/100], Loss: 0.0015, Acc: 50.8900%\n",
      "Epoch [92/100], Loss: 0.0005, Acc: 51.4400%\n",
      "Epoch [93/100], Loss: 0.0012, Acc: 50.7500%\n",
      "Epoch [94/100], Loss: 0.0020, Acc: 51.2200%\n",
      "Epoch [95/100], Loss: 0.0013, Acc: 51.6300%\n",
      "Epoch [96/100], Loss: 0.0017, Acc: 51.1800%\n",
      "Epoch [97/100], Loss: 0.0013, Acc: 51.0100%\n",
      "Epoch [98/100], Loss: 0.0010, Acc: 51.8100%\n",
      "Epoch [99/100], Loss: 0.0014, Acc: 51.1100%\n"
     ]
    }
   ],
   "source": [
    "num_epochs = 100\n",
    "\n",
    "# Traning the Model\n",
    "for epoch in range(num_epochs):\n",
    "    model.train()\n",
    "    running_loss = 0.0\n",
    "    for (images, labels) in train_loader:\n",
    "        images = images.view(-1, 3 * 32 * 32).to(device)\n",
    "        labels = labels.to(device)\n",
    "        \n",
    "        outputs = model(images)\n",
    "        loss = error(outputs, labels)\n",
    "        \n",
    "        optimizer.zero_grad()\n",
    "        loss.backward()\n",
    "        optimizer.step()\n",
    "\n",
    "    running_loss += loss.item()\n",
    "        \n",
    "    # Calculate Accuracy         \n",
    "    correct = 0\n",
    "    total = 0\n",
    "    # Predict test dataset\n",
    "    for images, labels in test_loader: \n",
    "        images = images.view(-1, 3 * 32 * 32).to(device)\n",
    "        labels = labels.to(device)\n",
    "\n",
    "        outputs = model(images)\n",
    "        predicted = torch.max(outputs.data, 1)[1]\n",
    "        total += len(labels)\n",
    "        correct += (predicted == labels).sum()\n",
    "    \n",
    "    accuracy = 100 * correct / float(total)\n",
    "    avg_loss = running_loss / len(train_loader)\n",
    "    print(f\"Epoch [{epoch}/{num_epochs}], Loss: {avg_loss:.4f}, Acc: {accuracy:.4f}%\")"
   ]
  },
  {
   "cell_type": "code",
   "execution_count": 18,
   "metadata": {
    "_cell_guid": "5579a7d6-7766-4d0f-b9d0-584cb4f28321",
    "_uuid": "c5e2e6da7f1ee801e38358dc28d4c99e32d2b761"
   },
   "outputs": [],
   "source": [
    "# # visualization loss \n",
    "# plt.plot(iteration_list,loss_list)\n",
    "# plt.xlabel(\"Number of iteration\")\n",
    "# plt.ylabel(\"Loss\")\n",
    "# plt.title(\"ANN: Loss vs Number of iteration\")\n",
    "# plt.show()\n",
    "\n",
    "# # visualization accuracy \n",
    "# plt.plot(iteration_list,accuracy_list,color = \"red\")\n",
    "# plt.xlabel(\"Number of iteration\")\n",
    "# plt.ylabel(\"Accuracy\")\n",
    "# plt.title(\"ANN: Accuracy vs Number of iteration\")\n",
    "# plt.show()"
   ]
  },
  {
   "cell_type": "markdown",
   "metadata": {
    "_cell_guid": "50bbb2e7-15d8-47f5-8f31-25e0d0cb9e29",
    "_uuid": "cd8f261d231acaccd0f0bc8466fc28c1b0c2f567"
   },
   "source": [
    "<a id=\"5\"></a> <br>\n",
    "### Convolutional Neural Network (CNN)"
   ]
  },
  {
   "cell_type": "code",
   "execution_count": 18,
   "metadata": {
    "_cell_guid": "9ca5af9e-6821-4d60-8084-edb523a39c6b",
    "_uuid": "4915535771ffdd33ef480200393216f215b4fc48"
   },
   "outputs": [],
   "source": [
    "# Create CNN Model\n",
    "class CNNModel(nn.Module):\n",
    "    def __init__(self):\n",
    "        super(CNNModel, self).__init__()\n",
    "        \n",
    "        # Convolutional layers with BatchNorm\n",
    "        self.conv1 = nn.Conv2d(in_channels=3, out_channels=32, kernel_size=3, padding=1)\n",
    "        self.bn1 = nn.BatchNorm2d(32)  # BatchNorm for 32 feature maps\n",
    "        \n",
    "        self.conv2 = nn.Conv2d(in_channels=32, out_channels=64, kernel_size=3, padding=1)\n",
    "        self.bn2 = nn.BatchNorm2d(64)  # BatchNorm for 64 feature maps\n",
    "        \n",
    "        self.conv3 = nn.Conv2d(in_channels=64, out_channels=128, kernel_size=3, padding=1)\n",
    "        self.bn3 = nn.BatchNorm2d(128)  # BatchNorm for 128 feature maps\n",
    "        \n",
    "        self.pool = nn.MaxPool2d(2, 2)  # Downsampling\n",
    "        \n",
    "        # Fully connected layers\n",
    "        self.fc1 = nn.Linear(128 * 4 * 4, 256)\n",
    "        self.bn_fc1 = nn.BatchNorm1d(256)  # BatchNorm for FC layer\n",
    "        \n",
    "        self.fc2 = nn.Linear(256, 10)  # Output layer for 10 classes\n",
    "\n",
    "    def forward(self, x):\n",
    "        x = self.pool(torch.relu(self.bn1(self.conv1(x))))  # Conv -> BatchNorm -> ReLU -> Pool\n",
    "        x = self.pool(torch.relu(self.bn2(self.conv2(x))))\n",
    "        x = self.pool(torch.relu(self.bn3(self.conv3(x))))\n",
    "        \n",
    "        x = torch.flatten(x, 1)  # Flatten for FC layer\n",
    "        x = torch.relu(self.bn_fc1(self.fc1(x)))  # FC -> BatchNorm -> ReLU\n",
    "        x = self.fc2(x)  # No activation for final layer (handled by loss function)\n",
    "        \n",
    "        return x\n",
    "\n",
    "\n",
    "model = CNNModel().to(device)\n",
    "error = nn.CrossEntropyLoss()\n",
    "optimizer = torch.optim.Adam(model.parameters(), lr=0.001)\n"
   ]
  },
  {
   "cell_type": "code",
   "execution_count": 19,
   "metadata": {},
   "outputs": [
    {
     "name": "stdout",
     "output_type": "stream",
     "text": [
      "Total Parameters: 621322\n"
     ]
    }
   ],
   "source": [
    "def count_parameters(model):\n",
    "    return sum(p.numel() for p in model.parameters())\n",
    "\n",
    "# Example\n",
    "total_params = count_parameters(model)\n",
    "print(f\"Total Parameters: {total_params}\")"
   ]
  },
  {
   "cell_type": "code",
   "execution_count": 43,
   "metadata": {
    "_cell_guid": "99a8903c-da15-496c-96b7-f5402c8fc5f0",
    "_uuid": "f44e02d25698ac1a014795d972a384a3f3003d35"
   },
   "outputs": [
    {
     "name": "stdout",
     "output_type": "stream",
     "text": [
      "Epoch [0/50], Loss: 0.0010, Acc: 69.7400%\n",
      "Epoch [1/50], Loss: 0.0011, Acc: 74.3500%\n",
      "Epoch [2/50], Loss: 0.0008, Acc: 76.2300%\n",
      "Epoch [3/50], Loss: 0.0005, Acc: 77.0800%\n",
      "Epoch [4/50], Loss: 0.0008, Acc: 77.9300%\n",
      "Epoch [5/50], Loss: 0.0004, Acc: 77.9400%\n",
      "Epoch [6/50], Loss: 0.0003, Acc: 77.6800%\n",
      "Epoch [7/50], Loss: 0.0004, Acc: 77.4900%\n",
      "Epoch [8/50], Loss: 0.0013, Acc: 77.6100%\n",
      "Epoch [9/50], Loss: 0.0005, Acc: 78.1000%\n",
      "Epoch [10/50], Loss: 0.0000, Acc: 77.9900%\n",
      "Epoch [11/50], Loss: 0.0006, Acc: 76.9700%\n",
      "Epoch [12/50], Loss: 0.0000, Acc: 77.6500%\n",
      "Epoch [13/50], Loss: 0.0002, Acc: 77.6400%\n",
      "Epoch [14/50], Loss: 0.0007, Acc: 77.9900%\n",
      "Epoch [15/50], Loss: 0.0011, Acc: 77.6900%\n",
      "Epoch [16/50], Loss: 0.0001, Acc: 78.0000%\n",
      "Epoch [17/50], Loss: 0.0001, Acc: 77.8400%\n",
      "Epoch [18/50], Loss: 0.0001, Acc: 77.3700%\n",
      "Epoch [19/50], Loss: 0.0000, Acc: 77.9000%\n",
      "Epoch [20/50], Loss: 0.0000, Acc: 78.1700%\n",
      "Epoch [21/50], Loss: 0.0003, Acc: 77.2900%\n",
      "Epoch [22/50], Loss: 0.0002, Acc: 78.2500%\n",
      "Epoch [23/50], Loss: 0.0003, Acc: 79.0300%\n",
      "Epoch [24/50], Loss: 0.0001, Acc: 77.3800%\n",
      "Epoch [25/50], Loss: 0.0004, Acc: 77.1500%\n",
      "Epoch [26/50], Loss: 0.0002, Acc: 78.0900%\n",
      "Epoch [27/50], Loss: 0.0000, Acc: 77.1200%\n",
      "Epoch [28/50], Loss: 0.0002, Acc: 78.2200%\n",
      "Epoch [29/50], Loss: 0.0005, Acc: 77.9200%\n",
      "Epoch [30/50], Loss: 0.0001, Acc: 78.2400%\n",
      "Epoch [31/50], Loss: 0.0001, Acc: 77.7100%\n",
      "Epoch [32/50], Loss: 0.0001, Acc: 78.3500%\n",
      "Epoch [33/50], Loss: 0.0003, Acc: 76.6600%\n",
      "Epoch [34/50], Loss: 0.0000, Acc: 78.0000%\n",
      "Epoch [35/50], Loss: 0.0001, Acc: 78.0300%\n",
      "Epoch [36/50], Loss: 0.0001, Acc: 77.8800%\n",
      "Epoch [37/50], Loss: 0.0000, Acc: 77.8100%\n",
      "Epoch [38/50], Loss: 0.0000, Acc: 78.1800%\n",
      "Epoch [39/50], Loss: 0.0004, Acc: 78.4200%\n",
      "Epoch [40/50], Loss: 0.0000, Acc: 78.1900%\n",
      "Epoch [41/50], Loss: 0.0001, Acc: 78.0600%\n",
      "Epoch [42/50], Loss: 0.0000, Acc: 77.4800%\n",
      "Epoch [43/50], Loss: 0.0000, Acc: 78.0400%\n",
      "Epoch [44/50], Loss: 0.0000, Acc: 78.4500%\n",
      "Epoch [45/50], Loss: 0.0005, Acc: 78.1100%\n",
      "Epoch [46/50], Loss: 0.0001, Acc: 77.3900%\n",
      "Epoch [47/50], Loss: 0.0000, Acc: 77.8600%\n",
      "Epoch [48/50], Loss: 0.0000, Acc: 78.1900%\n",
      "Epoch [49/50], Loss: 0.0000, Acc: 78.0400%\n"
     ]
    }
   ],
   "source": [
    "num_epochs = 25\n",
    "\n",
    "# Traning the Model\n",
    "for epoch in range(num_epochs):\n",
    "    model.train()\n",
    "    running_loss = 0.0\n",
    "    for (images, labels) in train_loader:\n",
    "        images = images.to(device).view(-1, 3, 32, 32)\n",
    "        labels = labels.to(device)\n",
    "        \n",
    "        outputs = model(images)\n",
    "        loss = error(outputs, labels)\n",
    "        \n",
    "        optimizer.zero_grad()\n",
    "        loss.backward()\n",
    "        optimizer.step()\n",
    "\n",
    "    running_loss += loss.item()\n",
    "        \n",
    "    # Calculate Accuracy         \n",
    "    correct = 0\n",
    "    total = 0\n",
    "    # Predict test dataset\n",
    "    for images, labels in test_loader: \n",
    "        images = images.to(device).view(-1, 3, 32, 32)\n",
    "        labels = labels.to(device)\n",
    "\n",
    "        outputs = model(images)\n",
    "        predicted = torch.max(outputs.data, 1)[1]\n",
    "        total += len(labels)\n",
    "        correct += (predicted == labels).sum()\n",
    "    \n",
    "    accuracy = 100 * correct / float(total)\n",
    "    avg_loss = running_loss / len(train_loader)\n",
    "    print(f\"Epoch [{epoch}/{num_epochs}], Loss: {avg_loss:.4f}, Acc: {accuracy:.4f}%\")"
   ]
  },
  {
   "cell_type": "markdown",
   "metadata": {},
   "source": []
  },
  {
   "cell_type": "code",
   "execution_count": 29,
   "metadata": {
    "_cell_guid": "ac9e4aee-b8af-4641-8794-bad03b650179",
    "_uuid": "44c1ed412d778f3e6b08f11bddc5321f63e408dd"
   },
   "outputs": [],
   "source": [
    "# # visualization loss \n",
    "# plt.plot(iteration_list,loss_list)\n",
    "# plt.xlabel(\"Number of iteration\")\n",
    "# plt.ylabel(\"Loss\")\n",
    "# plt.title(\"CNN: Loss vs Number of iteration\")\n",
    "# plt.show()\n",
    "\n",
    "# # visualization accuracy \n",
    "# plt.plot(iteration_list,accuracy_list,color = \"red\")\n",
    "# plt.xlabel(\"Number of iteration\")\n",
    "# plt.ylabel(\"Accuracy\")\n",
    "# plt.title(\"CNN: Accuracy vs Number of iteration\")\n",
    "# plt.show()"
   ]
  },
  {
   "cell_type": "code",
   "execution_count": null,
   "metadata": {},
   "outputs": [],
   "source": []
  }
 ],
 "metadata": {
  "kaggle": {
   "accelerator": "gpu",
   "dataSources": [
    {
     "databundleVersionId": 861823,
     "sourceId": 3004,
     "sourceType": "competition"
    }
   ],
   "dockerImageVersionId": 18199,
   "isGpuEnabled": true,
   "isInternetEnabled": false,
   "language": "python",
   "sourceType": "notebook"
  },
  "kernelspec": {
   "display_name": "env_playing_with_dp",
   "language": "python",
   "name": "python3"
  },
  "language_info": {
   "codemirror_mode": {
    "name": "ipython",
    "version": 3
   },
   "file_extension": ".py",
   "mimetype": "text/x-python",
   "name": "python",
   "nbconvert_exporter": "python",
   "pygments_lexer": "ipython3",
   "version": "3.12.8"
  }
 },
 "nbformat": 4,
 "nbformat_minor": 4
}
